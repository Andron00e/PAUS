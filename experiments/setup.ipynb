{
 "cells": [
  {
   "cell_type": "code",
   "execution_count": 6,
   "metadata": {},
   "outputs": [],
   "source": [
    "import sys\n",
    "sys.path.append(\"../methods/\")\n",
    "\n",
    "from tqdm import trange\n",
    "from paus import *\n",
    "from utils import *\n",
    "from mirror_prox import *\n",
    "from saddle_sliding import *"
   ]
  },
  {
   "cell_type": "code",
   "execution_count": 7,
   "metadata": {},
   "outputs": [],
   "source": [
    "k = 5 # grid size\n",
    "n = k * k # amount of houses\n",
    "distance_matrix = get_distance_matrix(make_house_grid(k))\n",
    "theta = 2 / distance_matrix.max()\n",
    "\n",
    "matrices_array = [get_utility_matrix(distance_matrix) for _ in range(10000)]\n",
    "mean_matrix = np.mean(matrices_array, axis=0)\n",
    "\n",
    "machine_1 = matrices_array[:2000]\n",
    "machine_2 = matrices_array[2000:4000]\n",
    "machine_3 = matrices_array[4000:6000]\n",
    "machine_4 = matrices_array[6000:8000]\n",
    "machine_5 = matrices_array[8000:]\n",
    "\n",
    "A_1 = np.mean(machine_1, axis=0)\n",
    "A_2 = np.mean(machine_2, axis=0)\n",
    "A_3 = np.mean(machine_3, axis=0)\n",
    "A_4 = np.mean(machine_4, axis=0)\n",
    "A_5 = np.mean(machine_5, axis=0)"
   ]
  },
  {
   "cell_type": "code",
   "execution_count": 8,
   "metadata": {},
   "outputs": [
    {
     "name": "stdout",
     "output_type": "stream",
     "text": [
      "delta =   0.3041361980867748 \n",
      "\n",
      "Lipschitz =   0.8679504426871004 \n",
      "\n",
      "gamma_sim =   3.288000594111078\n"
     ]
    }
   ],
   "source": [
    "delta = np.linalg.norm(get_hess(mean_matrix) - get_hess(A_1), ord=1)\n",
    "Lipschitz = np.max(mean_matrix)\n",
    "gamma_sim = 1 / delta\n",
    "\n",
    "print(\"delta =  \", delta, \"\\n\")\n",
    "print(\"Lipschitz =  \", Lipschitz, \"\\n\")\n",
    "print(\"gamma_sim =  \", gamma_sim)"
   ]
  },
  {
   "cell_type": "markdown",
   "metadata": {},
   "source": [
    "or you can try another hyperparameters"
   ]
  },
  {
   "cell_type": "code",
   "execution_count": null,
   "metadata": {},
   "outputs": [],
   "source": [
    "delta = np.max(A_1)\n",
    "Lipschitz = np.max(mean_matrix)\n",
    "gamma_sim = 1 / delta\n",
    "\n",
    "print(\"delta =  \", delta, \"\\n\")\n",
    "print(\"Lipschitz =  \", Lipschitz, \"\\n\")\n",
    "print(\"gamma_sim =  \", gamma_sim)"
   ]
  },
  {
   "cell_type": "code",
   "execution_count": 9,
   "metadata": {},
   "outputs": [],
   "source": [
    "iter_grad_calls = 4"
   ]
  },
  {
   "cell_type": "code",
   "execution_count": 10,
   "metadata": {},
   "outputs": [],
   "source": [
    "def run_one_log(c_list: list, name_of_method: str):\n",
    "    first_iteration = True\n",
    "    for c in c_list:\n",
    "\n",
    "        if name_of_method == \"MirrorProx\":\n",
    "            ans, error = MirrorProx(grad_x, grad_y, prox_simplex, gamma_MP, c, n, Lipschitz, mean_matrix)\n",
    "            x = np.array(range(len(error))) * iter_grad_calls\n",
    "\n",
    "            if first_iteration:\n",
    "                plt.loglog(x, error, label = r'$\\gamma$ (theoretical) = {}'.format(round(c / Lipschitz, 2) if c / Lipschitz < 1.0 else round(c / Lipschitz)))\n",
    "                first_iteration = False\n",
    "\n",
    "            else:\n",
    "                plt.loglog(x, error, label = r'$\\gamma$ = {}'.format(round(c / Lipschitz, 2) if c / Lipschitz < 1.0 else round(c / Lipschitz)))\n",
    "\n",
    "            continue\n",
    "        \n",
    "        elif name_of_method == \"PAUS\":\n",
    "            ans_breg, error_breg = PAUS_method(grad_x, grad_y, prox_simplex, gamma_MP, c, n, Lipschitz, gamma_sim, A_1, mean_matrix)\n",
    "            x = np.array(range(len(error_breg))) * iter_grad_calls\n",
    "\n",
    "            if first_iteration:\n",
    "                plt.loglog(x, error_breg, label = r'$\\gamma$ (theoretical) = {}'.format(round(c / delta, 2) if c / delta < 1.0 else round(c / delta)))\n",
    "                first_iteration = False\n",
    "\n",
    "            else:\n",
    "                plt.loglog(x, error_breg, label = r'$\\gamma$ = {}'.format(round(c / delta, 2) if c / delta < 1.0 else round(c / delta)))\n",
    "\n",
    "            continue\n",
    "\n",
    "        elif name_of_method == \"Euclidean\":\n",
    "            ans, error_sad = Euclidean_method(grad_x, grad_y, prox_simplex, gamma_MP, c, n, Lipschitz, gamma_sim, A_1, mean_matrix)\n",
    "            x = np.array(range(len(error_sad))) * iter_grad_calls\n",
    "\n",
    "            if first_iteration:\n",
    "                plt.loglog(x, error_sad, label = r'$\\gamma$ (theoretical) = {}'.format(round(c / delta, 2) if c / delta < 1.0 else round(c / delta)))\n",
    "                first_iteration = False\n",
    "\n",
    "            else:\n",
    "                plt.loglog(x, error_sad, label = r'$\\gamma$ = {}'.format(round(c / delta, 2) if c / delta < 1.0 else round(c / delta)))\n",
    "\n",
    "            continue\n",
    "\n",
    "    plt.title(name_of_method, fontsize=20)\n",
    "    plt.xlabel(\"communications\", fontsize=20)\n",
    "    plt.ylabel(\"duality gap\", fontsize=20)\n",
    "    plt.legend()\n",
    "    plt.grid()\n",
    "    plt.show()"
   ]
  },
  {
   "cell_type": "code",
   "execution_count": null,
   "metadata": {},
   "outputs": [],
   "source": [
    "run_one_log([1, 50, 100, 200, 400], \"MirrorProx\")"
   ]
  },
  {
   "cell_type": "code",
   "execution_count": null,
   "metadata": {},
   "outputs": [],
   "source": [
    "run_one_log([1, 50, 100, 200, 400], \"PAUS\")"
   ]
  },
  {
   "cell_type": "code",
   "execution_count": null,
   "metadata": {},
   "outputs": [],
   "source": [
    "run_one_log([1, 50, 100, 200, 400], \"Euclidean\")"
   ]
  }
 ],
 "metadata": {
  "kernelspec": {
   "display_name": "Python 3 (ipykernel)",
   "language": "python",
   "name": "python3"
  },
  "language_info": {
   "codemirror_mode": {
    "name": "ipython",
    "version": 3
   },
   "file_extension": ".py",
   "mimetype": "text/x-python",
   "name": "python",
   "nbconvert_exporter": "python",
   "pygments_lexer": "ipython3",
   "version": "3.10.6"
  }
 },
 "nbformat": 4,
 "nbformat_minor": 2
}
